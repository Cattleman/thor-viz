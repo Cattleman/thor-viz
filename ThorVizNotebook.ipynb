{
 "cells": [
  {
   "cell_type": "markdown",
   "id": "dynamic-average",
   "metadata": {},
   "source": [
    "# ThorViz Notebook\n"
   ]
  },
  {
   "cell_type": "code",
   "execution_count": 24,
   "id": "faced-patrol",
   "metadata": {},
   "outputs": [],
   "source": [
    "from typing import Dict\n",
    "import numpy as np\n",
    "import requests\n",
    "import pandas as pd"
   ]
  },
  {
   "cell_type": "code",
   "execution_count": null,
   "id": "indie-budget",
   "metadata": {},
   "outputs": [],
   "source": []
  },
  {
   "cell_type": "markdown",
   "id": "adjustable-cambridge",
   "metadata": {},
   "source": [
    "# Resource: https://testnet.midgard.thorchain.info/v2/doc#operation/GetPools\n"
   ]
  },
  {
   "cell_type": "code",
   "execution_count": 21,
   "id": "current-emphasis",
   "metadata": {
    "scrolled": true
   },
   "outputs": [
    {
     "ename": "AttributeError",
     "evalue": "'list' object has no attribute 'keys'",
     "output_type": "error",
     "traceback": [
      "\u001b[0;31m---------------------------------------------------------------------------\u001b[0m",
      "\u001b[0;31mAttributeError\u001b[0m                            Traceback (most recent call last)",
      "\u001b[0;32m<ipython-input-21-e02152e2521a>\u001b[0m in \u001b[0;36m<module>\u001b[0;34m\u001b[0m\n\u001b[1;32m      3\u001b[0m \u001b[0mr\u001b[0m \u001b[0;34m=\u001b[0m \u001b[0mrequests\u001b[0m\u001b[0;34m.\u001b[0m\u001b[0mget\u001b[0m\u001b[0;34m(\u001b[0m\u001b[0mmy_request\u001b[0m\u001b[0;34m)\u001b[0m\u001b[0;34m\u001b[0m\u001b[0;34m\u001b[0m\u001b[0m\n\u001b[1;32m      4\u001b[0m \u001b[0mresponse_dict\u001b[0m \u001b[0;34m=\u001b[0m \u001b[0mr\u001b[0m\u001b[0;34m.\u001b[0m\u001b[0mjson\u001b[0m\u001b[0;34m(\u001b[0m\u001b[0;34m)\u001b[0m\u001b[0;34m\u001b[0m\u001b[0;34m\u001b[0m\u001b[0m\n\u001b[0;32m----> 5\u001b[0;31m \u001b[0mresponse_dict\u001b[0m\u001b[0;34m.\u001b[0m\u001b[0mkeys\u001b[0m\u001b[0;34m(\u001b[0m\u001b[0;34m)\u001b[0m\u001b[0;34m\u001b[0m\u001b[0;34m\u001b[0m\u001b[0m\n\u001b[0m",
      "\u001b[0;31mAttributeError\u001b[0m: 'list' object has no attribute 'keys'"
     ]
    }
   ],
   "source": [
    "my_request = 'https://midgard.thorchain.info/v2/pools'\n",
    "    \n",
    "r = requests.get(my_request)\n",
    "response_dict = r.json()\n",
    "response_dict.keys()"
   ]
  },
  {
   "cell_type": "code",
   "execution_count": 30,
   "id": "positive-intranet",
   "metadata": {},
   "outputs": [],
   "source": [
    "pool_df = pd.DataFrame(response_dict)"
   ]
  },
  {
   "cell_type": "code",
   "execution_count": 31,
   "id": "moving-provision",
   "metadata": {},
   "outputs": [
    {
     "data": {
      "text/html": [
       "<div>\n",
       "<style scoped>\n",
       "    .dataframe tbody tr th:only-of-type {\n",
       "        vertical-align: middle;\n",
       "    }\n",
       "\n",
       "    .dataframe tbody tr th {\n",
       "        vertical-align: top;\n",
       "    }\n",
       "\n",
       "    .dataframe thead th {\n",
       "        text-align: right;\n",
       "    }\n",
       "</style>\n",
       "<table border=\"1\" class=\"dataframe\">\n",
       "  <thead>\n",
       "    <tr style=\"text-align: right;\">\n",
       "      <th></th>\n",
       "      <th>asset</th>\n",
       "      <th>assetDepth</th>\n",
       "      <th>assetPrice</th>\n",
       "      <th>assetPriceUSD</th>\n",
       "      <th>poolAPY</th>\n",
       "      <th>runeDepth</th>\n",
       "      <th>status</th>\n",
       "      <th>units</th>\n",
       "      <th>volume24h</th>\n",
       "    </tr>\n",
       "  </thead>\n",
       "  <tbody>\n",
       "    <tr>\n",
       "      <th>0</th>\n",
       "      <td>BCH.BCH</td>\n",
       "      <td>15110496222</td>\n",
       "      <td>64.6317940706739</td>\n",
       "      <td>832.722190908846</td>\n",
       "      <td>0.2690831805870779</td>\n",
       "      <td>976618480126</td>\n",
       "      <td>available</td>\n",
       "      <td>944477365474</td>\n",
       "      <td>10132838293</td>\n",
       "    </tr>\n",
       "    <tr>\n",
       "      <th>1</th>\n",
       "      <td>ETH.USDT-0XDAC17F958D2EE523A2206206994597C13D8...</td>\n",
       "      <td>87973195818300</td>\n",
       "      <td>0.07700358576299253</td>\n",
       "      <td>0.9921215334712705</td>\n",
       "      <td>0.12291418250868902</td>\n",
       "      <td>6774251529039</td>\n",
       "      <td>available</td>\n",
       "      <td>8995653916193</td>\n",
       "      <td>1154156467253</td>\n",
       "    </tr>\n",
       "  </tbody>\n",
       "</table>\n",
       "</div>"
      ],
      "text/plain": [
       "                                               asset      assetDepth  \\\n",
       "0                                            BCH.BCH     15110496222   \n",
       "1  ETH.USDT-0XDAC17F958D2EE523A2206206994597C13D8...  87973195818300   \n",
       "\n",
       "            assetPrice       assetPriceUSD              poolAPY  \\\n",
       "0     64.6317940706739    832.722190908846   0.2690831805870779   \n",
       "1  0.07700358576299253  0.9921215334712705  0.12291418250868902   \n",
       "\n",
       "       runeDepth     status          units      volume24h  \n",
       "0   976618480126  available   944477365474    10132838293  \n",
       "1  6774251529039  available  8995653916193  1154156467253  "
      ]
     },
     "execution_count": 31,
     "metadata": {},
     "output_type": "execute_result"
    }
   ],
   "source": [
    "pool_df.head(2)"
   ]
  },
  {
   "cell_type": "code",
   "execution_count": 144,
   "id": "manufactured-sight",
   "metadata": {},
   "outputs": [],
   "source": [
    "pool_df['assetDepth'] = pool_df['assetDepth'].astype(float) / 1e8 \n"
   ]
  },
  {
   "cell_type": "code",
   "execution_count": 147,
   "id": "impressed-buffer",
   "metadata": {},
   "outputs": [],
   "source": [
    "pool_df['assetPriceUSD'] = pool_df['assetPriceUSD'].astype(float)"
   ]
  },
  {
   "cell_type": "code",
   "execution_count": 150,
   "id": "mediterranean-istanbul",
   "metadata": {},
   "outputs": [
    {
     "data": {
      "text/plain": [
       "13    33.253712\n",
       "Name: assetDepth, dtype: float64"
      ]
     },
     "execution_count": 150,
     "metadata": {},
     "output_type": "execute_result"
    }
   ],
   "source": [
    "pool_df[pool_df['asset'] == 'BTC.BTC']['assetDepth'] #.astype(float) / 1e8"
   ]
  },
  {
   "cell_type": "code",
   "execution_count": 152,
   "id": "capital-orchestra",
   "metadata": {},
   "outputs": [
    {
     "data": {
      "text/plain": [
       "13    1669700.08\n",
       "Name: tv_usd, dtype: float64"
      ]
     },
     "execution_count": 152,
     "metadata": {},
     "output_type": "execute_result"
    }
   ],
   "source": [
    "pool_df[pool_df['asset'] == 'BTC.BTC']['tv_usd'].round(2)"
   ]
  },
  {
   "cell_type": "code",
   "execution_count": 146,
   "id": "higher-terrorist",
   "metadata": {},
   "outputs": [
    {
     "data": {
      "text/plain": [
       "8    1228.575408\n",
       "Name: assetDepth, dtype: float64"
      ]
     },
     "execution_count": 146,
     "metadata": {},
     "output_type": "execute_result"
    }
   ],
   "source": [
    "pool_df[pool_df['asset'] == 'BNB.BNB']['assetDepth']# .astype(float) / 1e8"
   ]
  },
  {
   "cell_type": "code",
   "execution_count": 148,
   "id": "conceptual-public",
   "metadata": {},
   "outputs": [],
   "source": [
    "# Calculate total value Locked for NON rune \n",
    "\n",
    "# Locked Value\n",
    "pool_df['tv_usd'] = pool_df['assetPriceUSD'] * pool_df['assetDepth']\n"
   ]
  },
  {
   "cell_type": "code",
   "execution_count": null,
   "id": "adapted-journalist",
   "metadata": {},
   "outputs": [],
   "source": [
    "pool_df['runeDepth'] = pool_df['runeDepth'].astype(float) / 1e8\n",
    "pool_df['rune_vt_usd'] = pool_df['runeDepth'] * "
   ]
  },
  {
   "cell_type": "code",
   "execution_count": 149,
   "id": "australian-prefix",
   "metadata": {},
   "outputs": [
    {
     "data": {
      "text/plain": [
       "6505367.329979617"
      ]
     },
     "execution_count": 149,
     "metadata": {},
     "output_type": "execute_result"
    }
   ],
   "source": [
    "# Sum of locked value\n",
    "pool_df['tv_usd'].sum()"
   ]
  },
  {
   "cell_type": "code",
   "execution_count": 35,
   "id": "moderate-portuguese",
   "metadata": {},
   "outputs": [
    {
     "data": {
      "text/plain": [
       "504914.56360307"
      ]
     },
     "execution_count": 35,
     "metadata": {},
     "output_type": "execute_result"
    }
   ],
   "source": [
    "pool_df['runeDepth'].astype(float).sum() / 100000000"
   ]
  },
  {
   "cell_type": "code",
   "execution_count": 51,
   "id": "sexual-keeping",
   "metadata": {},
   "outputs": [],
   "source": [
    "pool_df['adj_runeDepth'] = pool_df['runeDepth'].apply(lambda x: int(x) / 100_000_000)"
   ]
  },
  {
   "cell_type": "code",
   "execution_count": 53,
   "id": "terminal-burner",
   "metadata": {},
   "outputs": [
    {
     "data": {
      "text/plain": [
       "504914.56360307004"
      ]
     },
     "execution_count": 53,
     "metadata": {},
     "output_type": "execute_result"
    }
   ],
   "source": [
    "pool_df['adj_runeDepth'].sum()"
   ]
  },
  {
   "cell_type": "markdown",
   "id": "spoken-accordance",
   "metadata": {},
   "source": [
    "Note: can also get the value from: https://midgard.thorchain.info/v2/stats\n",
    "`runeDepth column` "
   ]
  },
  {
   "cell_type": "code",
   "execution_count": 54,
   "id": "emerging-allen",
   "metadata": {},
   "outputs": [
    {
     "data": {
      "text/plain": [
       "505183.4851532"
      ]
     },
     "execution_count": 54,
     "metadata": {},
     "output_type": "execute_result"
    }
   ],
   "source": [
    "50518348515320 "
   ]
  },
  {
   "cell_type": "code",
   "execution_count": 52,
   "id": "novel-ready",
   "metadata": {},
   "outputs": [
    {
     "data": {
      "text/plain": [
       "array([49425.94532057])"
      ]
     },
     "execution_count": 52,
     "metadata": {},
     "output_type": "execute_result"
    }
   ],
   "source": [
    "pool_df[pool_df['asset'] == 'BNB.BNB']['adj_runeDepth'].values #.value / 1000000"
   ]
  },
  {
   "cell_type": "markdown",
   "id": "russian-milwaukee",
   "metadata": {},
   "source": [
    "# Now lets get Bonded Rune"
   ]
  },
  {
   "cell_type": "code",
   "execution_count": 60,
   "id": "coral-product",
   "metadata": {},
   "outputs": [],
   "source": [
    "network_data_request = 'https://midgard.thorchain.info/v2/network'\n",
    "    \n",
    "rn = requests.get(network_data_request)\n",
    "net_response_dict = rn.json()"
   ]
  },
  {
   "cell_type": "code",
   "execution_count": 65,
   "id": "compound-mattress",
   "metadata": {},
   "outputs": [
    {
     "data": {
      "text/plain": [
       "{'averageActiveBond': '25693937378778',\n",
       " 'averageStandbyBond': '10000407000000',\n",
       " 'maximumActiveBond': '29978837503545',\n",
       " 'maximumStandbyBond': '30000392000001',\n",
       " 'medianActiveBond': '29972728553814',\n",
       " 'medianStandbyBond': '490000002',\n",
       " 'minimumActiveBond': '23408905603',\n",
       " 'minimumStandbyBond': '390000000',\n",
       " 'totalActiveBond': '179857561651449',\n",
       " 'totalStandbyBond': '60002442000004'}"
      ]
     },
     "execution_count": 65,
     "metadata": {},
     "output_type": "execute_result"
    }
   ],
   "source": [
    "net_response_dict['bondMetrics']"
   ]
  },
  {
   "cell_type": "markdown",
   "id": "fitting-darwin",
   "metadata": {},
   "source": [
    "# SLAW method"
   ]
  },
  {
   "cell_type": "code",
   "execution_count": 24,
   "id": "prescribed-argument",
   "metadata": {},
   "outputs": [],
   "source": [
    "import ftx"
   ]
  },
  {
   "cell_type": "code",
   "execution_count": 27,
   "id": "gothic-canyon",
   "metadata": {},
   "outputs": [],
   "source": [
    "\n",
    "\n",
    "def get_market_price() -> float:\n",
    "    \n",
    "    ftx_client = ftx.FtxClient()\n",
    "    \n",
    "    result = ftx_client.get_market('RUNE/USD')\n",
    "    \n",
    "    market_price = result['price']\n",
    "    \n",
    "    return market_price\n",
    "    "
   ]
  },
  {
   "cell_type": "code",
   "execution_count": 28,
   "id": "curious-architecture",
   "metadata": {},
   "outputs": [
    {
     "data": {
      "text/plain": [
       "17.8605"
      ]
     },
     "execution_count": 28,
     "metadata": {},
     "output_type": "execute_result"
    }
   ],
   "source": [
    "get_market_price()"
   ]
  },
  {
   "cell_type": "code",
   "execution_count": 44,
   "id": "parental-camel",
   "metadata": {},
   "outputs": [
    {
     "name": "stdout",
     "output_type": "stream",
     "text": [
      "ftx                            1.0.2\r\n"
     ]
    }
   ],
   "source": [
    "!pip list | grep c"
   ]
  },
  {
   "cell_type": "code",
   "execution_count": 40,
   "id": "cathedral-mercury",
   "metadata": {},
   "outputs": [],
   "source": [
    "pd.set_option('display.float_format', lambda x: '%.5f' % x)"
   ]
  },
  {
   "cell_type": "code",
   "execution_count": 41,
   "id": "renewable-startup",
   "metadata": {},
   "outputs": [],
   "source": [
    "import pandas as pd\n",
    "import ftx\n",
    "import numpy \n",
    "import requests\n",
    "\n",
    "\n",
    "def get_market_price() -> float:\n",
    "    \n",
    "    ftx_client = ftx.FtxClient()\n",
    "    \n",
    "    result = ftx_client.get_market('RUNE/USD')\n",
    "    \n",
    "    market_price = result['price']\n",
    "    \n",
    "    return market_price\n",
    "\n",
    "\n",
    "def get_rune_stats() -> pd.DataFrame:\n",
    "    \n",
    "    '''\n",
    "    Slaw's method.\n",
    "    '''\n",
    "    \n",
    "    market_price = get_market_price()\n",
    "    \n",
    "    # MCCN\n",
    "    mccn = requests.get('https://midgard.thorchain.info/v2/network')\n",
    "    mccn_dict = mccn.json()\n",
    "    \n",
    "    mccn_total_pooled_rune = float(mccn_dict['totalPooledRune']) / 1e7\n",
    "    mccn_total_active_bond = float(mccn_dict['bondMetrics']['totalActiveBond']) / 1e7 \n",
    "    \n",
    "    # ---\n",
    "    \n",
    "    # SCCN\n",
    "    sccn = requests.get('http://thorb.sccn.nexain.com:8080/v1/network')\n",
    "    sccn_dict = sccn.json()\n",
    "    \n",
    "    sccn_total_staked_rune = float(sccn_dict['totalStaked']) / 1e7\n",
    "    sccn_total_active_bond = float(sccn_dict['bondMetrics']['totalActiveBond']) / 1e7 \n",
    "    \n",
    "    # calculations\n",
    "    \n",
    "    rune_in_lp_count = mccn_total_pooled_rune + sccn_total_staked_rune\n",
    "    rune_bonded_count = mccn_total_active_bond + sccn_total_active_bond\n",
    "    \n",
    "    total_in_network_count = rune_in_lp_count + rune_bonded_count\n",
    "    \n",
    "    deterministic_value = rune_in_lp_count * market_price * 3 # In USD\n",
    "    \n",
    "    determined_price = deterministic_value / total_in_network_count # In USD\n",
    "    \n",
    "    speculation = market_price - determined_price # USD\n",
    "    \n",
    "    speculation_pct = speculation / market_price\n",
    "    \n",
    "    # Collect Results\n",
    "    result_dict = {\n",
    "        'Rune_in_LP_count': rune_in_lp_count,\n",
    "        'Rune_bonded_count': rune_bonded_count,\n",
    "        'total_in_network_count': total_in_network_count,\n",
    "        'deterministic_value_usd': deterministic_value,\n",
    "        'determined_price': determined_price,\n",
    "        'market_price_usd': market_price,\n",
    "        'speculation_premium_usd': speculation,\n",
    "        'speculation_pct_of_market': speculation_pct,\n",
    "    }\n",
    "    \n",
    "    return pd.DataFrame(result_dict, index=[0]).T.round(2)"
   ]
  },
  {
   "cell_type": "code",
   "execution_count": 43,
   "id": "hispanic-official",
   "metadata": {},
   "outputs": [
    {
     "data": {
      "text/html": [
       "<div>\n",
       "<style scoped>\n",
       "    .dataframe tbody tr th:only-of-type {\n",
       "        vertical-align: middle;\n",
       "    }\n",
       "\n",
       "    .dataframe tbody tr th {\n",
       "        vertical-align: top;\n",
       "    }\n",
       "\n",
       "    .dataframe thead th {\n",
       "        text-align: right;\n",
       "    }\n",
       "</style>\n",
       "<table border=\"1\" class=\"dataframe\">\n",
       "  <thead>\n",
       "    <tr style=\"text-align: right;\">\n",
       "      <th></th>\n",
       "      <th>0</th>\n",
       "    </tr>\n",
       "  </thead>\n",
       "  <tbody>\n",
       "    <tr>\n",
       "      <th>Rune_in_LP_count</th>\n",
       "      <td>71657739.39000</td>\n",
       "    </tr>\n",
       "    <tr>\n",
       "      <th>Rune_bonded_count</th>\n",
       "      <td>261665341.15000</td>\n",
       "    </tr>\n",
       "    <tr>\n",
       "      <th>total_in_network_count</th>\n",
       "      <td>333323080.54000</td>\n",
       "    </tr>\n",
       "    <tr>\n",
       "      <th>deterministic_value_usd</th>\n",
       "      <td>3834047346.03000</td>\n",
       "    </tr>\n",
       "    <tr>\n",
       "      <th>determined_price</th>\n",
       "      <td>11.50000</td>\n",
       "    </tr>\n",
       "    <tr>\n",
       "      <th>market_price_usd</th>\n",
       "      <td>17.84000</td>\n",
       "    </tr>\n",
       "    <tr>\n",
       "      <th>speculation_premium_usd</th>\n",
       "      <td>6.33000</td>\n",
       "    </tr>\n",
       "    <tr>\n",
       "      <th>speculation_pct_of_market</th>\n",
       "      <td>0.36000</td>\n",
       "    </tr>\n",
       "  </tbody>\n",
       "</table>\n",
       "</div>"
      ],
      "text/plain": [
       "                                         0\n",
       "Rune_in_LP_count            71657739.39000\n",
       "Rune_bonded_count          261665341.15000\n",
       "total_in_network_count     333323080.54000\n",
       "deterministic_value_usd   3834047346.03000\n",
       "determined_price                  11.50000\n",
       "market_price_usd                  17.84000\n",
       "speculation_premium_usd            6.33000\n",
       "speculation_pct_of_market          0.36000"
      ]
     },
     "execution_count": 43,
     "metadata": {},
     "output_type": "execute_result"
    }
   ],
   "source": [
    "get_rune_stats()"
   ]
  },
  {
   "cell_type": "code",
   "execution_count": null,
   "id": "funky-buyer",
   "metadata": {},
   "outputs": [],
   "source": []
  },
  {
   "cell_type": "code",
   "execution_count": null,
   "id": "dominican-relief",
   "metadata": {},
   "outputs": [],
   "source": [
    "RUNE_in_LP_count = totalStaked_SCCN + totalPooleRune_MCCN\n",
    "RUNE_bonded_count = totalActiveBond_SCCN + totalActiveBond_MCCN\n",
    "\n",
    "total_in_network_count = RUNE_in_LP_count + RUNE_bonded_count\n",
    "\n",
    "deterministic_value = RUNE_in_LP_count * market_price * 3\n",
    "determined_price = deterministic_value / total_in_network_count\n",
    "speculation = market_price - determined_price"
   ]
  },
  {
   "cell_type": "code",
   "execution_count": null,
   "id": "limited-opposition",
   "metadata": {},
   "outputs": [],
   "source": []
  },
  {
   "cell_type": "markdown",
   "id": "chief-twins",
   "metadata": {},
   "source": [
    "# In-Network Rune Calculation\n",
    "For the in-network rune calc we need the following values: \n",
    "1. `runeDepth`, depth of rune in LP. source: https://midgard.thorchain.info/v2/stats\n",
    "2. `totalActiveBond`, source: https://midgard.thorchain.info/v2/network\n",
    "3. `totalStandbyBond`, source: same as (2)\n",
    "4. `totalReserve`, source: same as (2) \n",
    "5. `totalPooledRune`, source: same as (2)  <-  Ask if this is same as `runeDepth`?"
   ]
  },
  {
   "cell_type": "code",
   "execution_count": null,
   "id": "collectible-nashville",
   "metadata": {},
   "outputs": [],
   "source": []
  },
  {
   "cell_type": "code",
   "execution_count": null,
   "id": "legitimate-shift",
   "metadata": {},
   "outputs": [],
   "source": []
  },
  {
   "cell_type": "code",
   "execution_count": null,
   "id": "local-optimization",
   "metadata": {},
   "outputs": [],
   "source": []
  },
  {
   "cell_type": "code",
   "execution_count": 160,
   "id": "willing-ordering",
   "metadata": {},
   "outputs": [],
   "source": [
    "my_request = 'https://midgard.thorchain.info/v2/pools'\n",
    "    \n",
    "r = requests.get(my_request)\n",
    "response_dict = r.json()\n",
    "#    response_dict.keys()"
   ]
  },
  {
   "cell_type": "code",
   "execution_count": 162,
   "id": "french-burner",
   "metadata": {},
   "outputs": [
    {
     "data": {
      "text/html": [
       "<div>\n",
       "<style scoped>\n",
       "    .dataframe tbody tr th:only-of-type {\n",
       "        vertical-align: middle;\n",
       "    }\n",
       "\n",
       "    .dataframe tbody tr th {\n",
       "        vertical-align: top;\n",
       "    }\n",
       "\n",
       "    .dataframe thead th {\n",
       "        text-align: right;\n",
       "    }\n",
       "</style>\n",
       "<table border=\"1\" class=\"dataframe\">\n",
       "  <thead>\n",
       "    <tr style=\"text-align: right;\">\n",
       "      <th></th>\n",
       "      <th>asset</th>\n",
       "      <th>assetDepth</th>\n",
       "      <th>assetPrice</th>\n",
       "      <th>assetPriceUSD</th>\n",
       "      <th>poolAPY</th>\n",
       "      <th>runeDepth</th>\n",
       "      <th>status</th>\n",
       "      <th>units</th>\n",
       "      <th>volume24h</th>\n",
       "    </tr>\n",
       "  </thead>\n",
       "  <tbody>\n",
       "    <tr>\n",
       "      <th>0</th>\n",
       "      <td>BCH.BCH</td>\n",
       "      <td>15111866639</td>\n",
       "      <td>64.62029491352236</td>\n",
       "      <td>778.9774124507321</td>\n",
       "      <td>0.2392274556685896</td>\n",
       "      <td>976533278906</td>\n",
       "      <td>available</td>\n",
       "      <td>944477365474</td>\n",
       "      <td>288263814</td>\n",
       "    </tr>\n",
       "    <tr>\n",
       "      <th>1</th>\n",
       "      <td>ETH.USDT-0XDAC17F958D2EE523A2206206994597C13D8...</td>\n",
       "      <td>84442557269000</td>\n",
       "      <td>0.08372040602783039</td>\n",
       "      <td>1.0092232686984675</td>\n",
       "      <td>0.16075945826115778</td>\n",
       "      <td>7069565180589</td>\n",
       "      <td>available</td>\n",
       "      <td>8995653916193</td>\n",
       "      <td>1344310318384</td>\n",
       "    </tr>\n",
       "    <tr>\n",
       "      <th>2</th>\n",
       "      <td>ETH.AAVE-0X7FC66500C84A76AD7E9C93437BFC5AC33E2...</td>\n",
       "      <td>14899683384</td>\n",
       "      <td>30.253844800357403</td>\n",
       "      <td>364.70062185273054</td>\n",
       "      <td>0</td>\n",
       "      <td>450772708674</td>\n",
       "      <td>staged</td>\n",
       "      <td>468222550349</td>\n",
       "      <td>0</td>\n",
       "    </tr>\n",
       "    <tr>\n",
       "      <th>3</th>\n",
       "      <td>ETH.LINK-0X514910771AF9CA656AF840DFF83E8264ECF...</td>\n",
       "      <td>33000000000</td>\n",
       "      <td>2.757575757575758</td>\n",
       "      <td>33.24171192885913</td>\n",
       "      <td>0</td>\n",
       "      <td>91000000000</td>\n",
       "      <td>staged</td>\n",
       "      <td>101000000000</td>\n",
       "      <td>0</td>\n",
       "    </tr>\n",
       "    <tr>\n",
       "      <th>4</th>\n",
       "      <td>ETH.TVK-0XD084B83C305DAFD76AE3E1B4E1F1FE2ECCCB...</td>\n",
       "      <td>5500000000000</td>\n",
       "      <td>0.03854848484854546</td>\n",
       "      <td>0.46468990928316684</td>\n",
       "      <td>0</td>\n",
       "      <td>212016666667</td>\n",
       "      <td>staged</td>\n",
       "      <td>222016666666</td>\n",
       "      <td>0</td>\n",
       "    </tr>\n",
       "    <tr>\n",
       "      <th>5</th>\n",
       "      <td>ETH.YFI-0X0BC529C00C6401AEF6D220BE8C6EA1667F6A...</td>\n",
       "      <td>185744648</td>\n",
       "      <td>3422.8293278199867</td>\n",
       "      <td>41261.13532310333</td>\n",
       "      <td>0</td>\n",
       "      <td>635772228660</td>\n",
       "      <td>staged</td>\n",
       "      <td>655059459431</td>\n",
       "      <td>0</td>\n",
       "    </tr>\n",
       "    <tr>\n",
       "      <th>6</th>\n",
       "      <td>BNB.BTCB-1DE</td>\n",
       "      <td>660828118</td>\n",
       "      <td>4267.540741538181</td>\n",
       "      <td>51443.86680407811</td>\n",
       "      <td>0.11845309985985786</td>\n",
       "      <td>2820110916719</td>\n",
       "      <td>available</td>\n",
       "      <td>2816600000000</td>\n",
       "      <td>789711432474</td>\n",
       "    </tr>\n",
       "    <tr>\n",
       "      <th>7</th>\n",
       "      <td>ETH.SUSHI-0X6B3595068778DD592E39A122F4F5A5CF09...</td>\n",
       "      <td>5169297807562</td>\n",
       "      <td>0.914402812952716</td>\n",
       "      <td>11.02283946745843</td>\n",
       "      <td>0.03659203956182022</td>\n",
       "      <td>4726820456225</td>\n",
       "      <td>available</td>\n",
       "      <td>5766694937746</td>\n",
       "      <td>53207371260</td>\n",
       "    </tr>\n",
       "    <tr>\n",
       "      <th>8</th>\n",
       "      <td>BNB.BNB</td>\n",
       "      <td>119623161394</td>\n",
       "      <td>42.583455019309504</td>\n",
       "      <td>513.3302107108215</td>\n",
       "      <td>0.3236829963168386</td>\n",
       "      <td>5093967512489</td>\n",
       "      <td>available</td>\n",
       "      <td>4921048281472</td>\n",
       "      <td>3106971217328</td>\n",
       "    </tr>\n",
       "    <tr>\n",
       "      <th>9</th>\n",
       "      <td>ETH.CREAM-0X2BA592F78DB6436527729929AAF6C90849...</td>\n",
       "      <td>10000000000</td>\n",
       "      <td>9.49</td>\n",
       "      <td>114.39897719517377</td>\n",
       "      <td>0</td>\n",
       "      <td>94900000000</td>\n",
       "      <td>staged</td>\n",
       "      <td>105900000000</td>\n",
       "      <td>0</td>\n",
       "    </tr>\n",
       "    <tr>\n",
       "      <th>10</th>\n",
       "      <td>BNB.ETH-1C9</td>\n",
       "      <td>14511700303</td>\n",
       "      <td>193.73416748537713</td>\n",
       "      <td>2335.404700535894</td>\n",
       "      <td>0.12284446546091288</td>\n",
       "      <td>2811412176999</td>\n",
       "      <td>available</td>\n",
       "      <td>2500000000000</td>\n",
       "      <td>803916784249</td>\n",
       "    </tr>\n",
       "    <tr>\n",
       "      <th>11</th>\n",
       "      <td>ETH.ALPHA-0XA1FAA113CBE53436DF28FF0AEE54275C13...</td>\n",
       "      <td>4419338785648</td>\n",
       "      <td>0.1214085714941013</td>\n",
       "      <td>1.4635422973290113</td>\n",
       "      <td>0</td>\n",
       "      <td>536545608914</td>\n",
       "      <td>staged</td>\n",
       "      <td>551521052886</td>\n",
       "      <td>0</td>\n",
       "    </tr>\n",
       "    <tr>\n",
       "      <th>12</th>\n",
       "      <td>ETH.SNX-0XC011A73EE8576FB46F5E1C5751CA3B9FE0AF...</td>\n",
       "      <td>629808368074</td>\n",
       "      <td>1.5433945841392644</td>\n",
       "      <td>18.605138233309</td>\n",
       "      <td>0</td>\n",
       "      <td>972042824331</td>\n",
       "      <td>staged</td>\n",
       "      <td>988799137875</td>\n",
       "      <td>0</td>\n",
       "    </tr>\n",
       "    <tr>\n",
       "      <th>13</th>\n",
       "      <td>BTC.BTC</td>\n",
       "      <td>3190059118</td>\n",
       "      <td>4234.605801502265</td>\n",
       "      <td>51046.84641903142</td>\n",
       "      <td>0.5617234538409686</td>\n",
       "      <td>13508642848218</td>\n",
       "      <td>available</td>\n",
       "      <td>14704388237918</td>\n",
       "      <td>1212501382002</td>\n",
       "    </tr>\n",
       "    <tr>\n",
       "      <th>14</th>\n",
       "      <td>ETH.ETH</td>\n",
       "      <td>47658403836</td>\n",
       "      <td>180.67310717743274</td>\n",
       "      <td>2177.957709986545</td>\n",
       "      <td>0.24388610176964232</td>\n",
       "      <td>8610591904167</td>\n",
       "      <td>available</td>\n",
       "      <td>8552197726767</td>\n",
       "      <td>2323817791964</td>\n",
       "    </tr>\n",
       "    <tr>\n",
       "      <th>15</th>\n",
       "      <td>ETH.DNA-0XEF6344DE1FCFC5F48C30234C16C1389E8CDC...</td>\n",
       "      <td>20750000000000</td>\n",
       "      <td>0.004733037412819277</td>\n",
       "      <td>0.057055283356482266</td>\n",
       "      <td>0</td>\n",
       "      <td>98210526316</td>\n",
       "      <td>staged</td>\n",
       "      <td>109210526315</td>\n",
       "      <td>0</td>\n",
       "    </tr>\n",
       "    <tr>\n",
       "      <th>16</th>\n",
       "      <td>LTC.LTC</td>\n",
       "      <td>56996215984</td>\n",
       "      <td>19.479325529534613</td>\n",
       "      <td>234.8171672318858</td>\n",
       "      <td>0.5100815549076734</td>\n",
       "      <td>1110247845104</td>\n",
       "      <td>available</td>\n",
       "      <td>1170355560051</td>\n",
       "      <td>141207036310</td>\n",
       "    </tr>\n",
       "    <tr>\n",
       "      <th>17</th>\n",
       "      <td>BNB.BUSD-BD1</td>\n",
       "      <td>27717731445761</td>\n",
       "      <td>0.08295528712472057</td>\n",
       "      <td>1</td>\n",
       "      <td>0.48939406858469936</td>\n",
       "      <td>2299332370529</td>\n",
       "      <td>available</td>\n",
       "      <td>2348357268706</td>\n",
       "      <td>1819607469315</td>\n",
       "    </tr>\n",
       "    <tr>\n",
       "      <th>18</th>\n",
       "      <td>ETH.PERP-0XBC396689893D065F41BC2C6ECBEE5E00852...</td>\n",
       "      <td>320000000000</td>\n",
       "      <td>0.6121875</td>\n",
       "      <td>7.379728540745041</td>\n",
       "      <td>0</td>\n",
       "      <td>195900000000</td>\n",
       "      <td>staged</td>\n",
       "      <td>207900000000</td>\n",
       "      <td>0</td>\n",
       "    </tr>\n",
       "  </tbody>\n",
       "</table>\n",
       "</div>"
      ],
      "text/plain": [
       "                                                asset      assetDepth  \\\n",
       "0                                             BCH.BCH     15111866639   \n",
       "1   ETH.USDT-0XDAC17F958D2EE523A2206206994597C13D8...  84442557269000   \n",
       "2   ETH.AAVE-0X7FC66500C84A76AD7E9C93437BFC5AC33E2...     14899683384   \n",
       "3   ETH.LINK-0X514910771AF9CA656AF840DFF83E8264ECF...     33000000000   \n",
       "4   ETH.TVK-0XD084B83C305DAFD76AE3E1B4E1F1FE2ECCCB...   5500000000000   \n",
       "5   ETH.YFI-0X0BC529C00C6401AEF6D220BE8C6EA1667F6A...       185744648   \n",
       "6                                        BNB.BTCB-1DE       660828118   \n",
       "7   ETH.SUSHI-0X6B3595068778DD592E39A122F4F5A5CF09...   5169297807562   \n",
       "8                                             BNB.BNB    119623161394   \n",
       "9   ETH.CREAM-0X2BA592F78DB6436527729929AAF6C90849...     10000000000   \n",
       "10                                        BNB.ETH-1C9     14511700303   \n",
       "11  ETH.ALPHA-0XA1FAA113CBE53436DF28FF0AEE54275C13...   4419338785648   \n",
       "12  ETH.SNX-0XC011A73EE8576FB46F5E1C5751CA3B9FE0AF...    629808368074   \n",
       "13                                            BTC.BTC      3190059118   \n",
       "14                                            ETH.ETH     47658403836   \n",
       "15  ETH.DNA-0XEF6344DE1FCFC5F48C30234C16C1389E8CDC...  20750000000000   \n",
       "16                                            LTC.LTC     56996215984   \n",
       "17                                       BNB.BUSD-BD1  27717731445761   \n",
       "18  ETH.PERP-0XBC396689893D065F41BC2C6ECBEE5E00852...    320000000000   \n",
       "\n",
       "              assetPrice         assetPriceUSD              poolAPY  \\\n",
       "0      64.62029491352236     778.9774124507321   0.2392274556685896   \n",
       "1    0.08372040602783039    1.0092232686984675  0.16075945826115778   \n",
       "2     30.253844800357403    364.70062185273054                    0   \n",
       "3      2.757575757575758     33.24171192885913                    0   \n",
       "4    0.03854848484854546   0.46468990928316684                    0   \n",
       "5     3422.8293278199867     41261.13532310333                    0   \n",
       "6      4267.540741538181     51443.86680407811  0.11845309985985786   \n",
       "7      0.914402812952716     11.02283946745843  0.03659203956182022   \n",
       "8     42.583455019309504     513.3302107108215   0.3236829963168386   \n",
       "9                   9.49    114.39897719517377                    0   \n",
       "10    193.73416748537713     2335.404700535894  0.12284446546091288   \n",
       "11    0.1214085714941013    1.4635422973290113                    0   \n",
       "12    1.5433945841392644       18.605138233309                    0   \n",
       "13     4234.605801502265     51046.84641903142   0.5617234538409686   \n",
       "14    180.67310717743274     2177.957709986545  0.24388610176964232   \n",
       "15  0.004733037412819277  0.057055283356482266                    0   \n",
       "16    19.479325529534613     234.8171672318858   0.5100815549076734   \n",
       "17   0.08295528712472057                     1  0.48939406858469936   \n",
       "18             0.6121875     7.379728540745041                    0   \n",
       "\n",
       "         runeDepth     status           units      volume24h  \n",
       "0     976533278906  available    944477365474      288263814  \n",
       "1    7069565180589  available   8995653916193  1344310318384  \n",
       "2     450772708674     staged    468222550349              0  \n",
       "3      91000000000     staged    101000000000              0  \n",
       "4     212016666667     staged    222016666666              0  \n",
       "5     635772228660     staged    655059459431              0  \n",
       "6    2820110916719  available   2816600000000   789711432474  \n",
       "7    4726820456225  available   5766694937746    53207371260  \n",
       "8    5093967512489  available   4921048281472  3106971217328  \n",
       "9      94900000000     staged    105900000000              0  \n",
       "10   2811412176999  available   2500000000000   803916784249  \n",
       "11    536545608914     staged    551521052886              0  \n",
       "12    972042824331     staged    988799137875              0  \n",
       "13  13508642848218  available  14704388237918  1212501382002  \n",
       "14   8610591904167  available   8552197726767  2323817791964  \n",
       "15     98210526316     staged    109210526315              0  \n",
       "16   1110247845104  available   1170355560051   141207036310  \n",
       "17   2299332370529  available   2348357268706  1819607469315  \n",
       "18    195900000000     staged    207900000000              0  "
      ]
     },
     "execution_count": 162,
     "metadata": {},
     "output_type": "execute_result"
    }
   ],
   "source": [
    "pd.DataFrame(response_dict)"
   ]
  },
  {
   "cell_type": "code",
   "execution_count": null,
   "id": "healthy-concord",
   "metadata": {},
   "outputs": [],
   "source": [
    "def get_multichain_pool_data():\n",
    "    \n",
    "    my_request = 'https://midgard.thorchain.info/v2/pools'\n",
    "    \n",
    "    r = requests.get(my_request)\n",
    "    response_dict = r.json()\n",
    "    response_dict.keys()\n",
    "    "
   ]
  },
  {
   "cell_type": "code",
   "execution_count": 159,
   "id": "excited-idaho",
   "metadata": {},
   "outputs": [],
   "source": [
    "def get_singlechain_stats():\n",
    "    \n",
    "    '''\n",
    "    Returns Datafraome containing global stats for all books and all transaction from BEPSwap.\n",
    "    \n",
    "    Documentation: https://testnet.midgard.thorchain.info/v2/doc#operation/GetStats\n",
    "    '''\n",
    "    \n",
    "    _url = \"https://midgard.thorchain.info/v2/stats\"\n",
    "    rn = requests.get(_url)\n",
    "    response_dict = rn.json()\n",
    "    \n",
    "    return pd.DataFrame([response_dict]).astype(float)"
   ]
  },
  {
   "cell_type": "code",
   "execution_count": 3,
   "id": "expired-decision",
   "metadata": {},
   "outputs": [],
   "source": [
    "import requests\n",
    "import pandas as pd\n",
    "\n",
    "def get_non_rune_TVL():\n",
    "    \n",
    "    my_request = 'https://midgard.thorchain.info/v2/pools'\n",
    "    \n",
    "    r = requests.get(my_request)\n",
    "    response_dict = r.json()\n",
    "    \n",
    "    \n",
    "    return pd.DataFrame(response_dict)\n",
    "\n",
    "    "
   ]
  },
  {
   "cell_type": "code",
   "execution_count": 4,
   "id": "lasting-virus",
   "metadata": {},
   "outputs": [],
   "source": [
    "df = get_non_rune_TVL()"
   ]
  },
  {
   "cell_type": "code",
   "execution_count": 10,
   "id": "center-survey",
   "metadata": {},
   "outputs": [],
   "source": [
    "df.to_csv('pool-data-2021-05-05.csv')"
   ]
  },
  {
   "cell_type": "code",
   "execution_count": 5,
   "id": "binding-debate",
   "metadata": {},
   "outputs": [
    {
     "data": {
      "text/html": [
       "<div>\n",
       "<style scoped>\n",
       "    .dataframe tbody tr th:only-of-type {\n",
       "        vertical-align: middle;\n",
       "    }\n",
       "\n",
       "    .dataframe tbody tr th {\n",
       "        vertical-align: top;\n",
       "    }\n",
       "\n",
       "    .dataframe thead th {\n",
       "        text-align: right;\n",
       "    }\n",
       "</style>\n",
       "<table border=\"1\" class=\"dataframe\">\n",
       "  <thead>\n",
       "    <tr style=\"text-align: right;\">\n",
       "      <th></th>\n",
       "      <th>asset</th>\n",
       "      <th>assetDepth</th>\n",
       "      <th>assetPrice</th>\n",
       "      <th>assetPriceUSD</th>\n",
       "      <th>poolAPY</th>\n",
       "      <th>runeDepth</th>\n",
       "      <th>status</th>\n",
       "      <th>units</th>\n",
       "      <th>volume24h</th>\n",
       "    </tr>\n",
       "  </thead>\n",
       "  <tbody>\n",
       "    <tr>\n",
       "      <th>0</th>\n",
       "      <td>BCH.BCH</td>\n",
       "      <td>42239303050</td>\n",
       "      <td>73.73112763637326</td>\n",
       "      <td>1355.3701716574021</td>\n",
       "      <td>0.13187937916761494</td>\n",
       "      <td>3114351444451</td>\n",
       "      <td>available</td>\n",
       "      <td>2535394661449</td>\n",
       "      <td>939793610465</td>\n",
       "    </tr>\n",
       "    <tr>\n",
       "      <th>1</th>\n",
       "      <td>ETH.USDT-0XDAC17F958D2EE523A2206206994597C13D8...</td>\n",
       "      <td>215238111837900</td>\n",
       "      <td>0.05439925503614397</td>\n",
       "      <td>0.9999999999999999</td>\n",
       "      <td>0.05000385758213488</td>\n",
       "      <td>11708792939368</td>\n",
       "      <td>available</td>\n",
       "      <td>18410844581074</td>\n",
       "      <td>1580401470322</td>\n",
       "    </tr>\n",
       "  </tbody>\n",
       "</table>\n",
       "</div>"
      ],
      "text/plain": [
       "                                               asset       assetDepth  \\\n",
       "0                                            BCH.BCH      42239303050   \n",
       "1  ETH.USDT-0XDAC17F958D2EE523A2206206994597C13D8...  215238111837900   \n",
       "\n",
       "            assetPrice       assetPriceUSD              poolAPY  \\\n",
       "0    73.73112763637326  1355.3701716574021  0.13187937916761494   \n",
       "1  0.05439925503614397  0.9999999999999999  0.05000385758213488   \n",
       "\n",
       "        runeDepth     status           units      volume24h  \n",
       "0   3114351444451  available   2535394661449   939793610465  \n",
       "1  11708792939368  available  18410844581074  1580401470322  "
      ]
     },
     "execution_count": 5,
     "metadata": {},
     "output_type": "execute_result"
    }
   ],
   "source": [
    "df.head(2)"
   ]
  },
  {
   "cell_type": "code",
   "execution_count": 6,
   "id": "equal-responsibility",
   "metadata": {},
   "outputs": [],
   "source": [
    "def calculate_non_rune_TVL(df) -> float:\n",
    "    '''\n",
    "    Calulates total non Rune value locked in the Network by summing\n",
    "    all Pool USD value.\n",
    "    '''\n",
    "    df = df.copy()\n",
    "    \n",
    "    df['total_value_USD'] = df['assetPriceUSD'].astype(float) * (df['assetDepth'].astype(float) / 1e7 )\n",
    "    \n",
    "    total_non_rune_tvl = df['total_value_USD'].sum()\n",
    "    \n",
    "    return total_non_rune_tvl\n"
   ]
  },
  {
   "cell_type": "code",
   "execution_count": 7,
   "id": "authorized-prison",
   "metadata": {},
   "outputs": [],
   "source": [
    "tvl = calculate_non_rune_TVL(df)"
   ]
  },
  {
   "cell_type": "code",
   "execution_count": 8,
   "id": "distinguished-forum",
   "metadata": {},
   "outputs": [
    {
     "data": {
      "text/plain": [
       "261813078.07097054"
      ]
     },
     "execution_count": 8,
     "metadata": {},
     "output_type": "execute_result"
    }
   ],
   "source": [
    "tvl"
   ]
  },
  {
   "cell_type": "code",
   "execution_count": 157,
   "id": "rotary-skating",
   "metadata": {},
   "outputs": [],
   "source": [
    "v2_stats_df = get_v2_stats()"
   ]
  },
  {
   "cell_type": "code",
   "execution_count": 158,
   "id": "convertible-african",
   "metadata": {},
   "outputs": [
    {
     "data": {
      "text/html": [
       "<div>\n",
       "<style scoped>\n",
       "    .dataframe tbody tr th:only-of-type {\n",
       "        vertical-align: middle;\n",
       "    }\n",
       "\n",
       "    .dataframe tbody tr th {\n",
       "        vertical-align: top;\n",
       "    }\n",
       "\n",
       "    .dataframe thead th {\n",
       "        text-align: right;\n",
       "    }\n",
       "</style>\n",
       "<table border=\"1\" class=\"dataframe\">\n",
       "  <thead>\n",
       "    <tr style=\"text-align: right;\">\n",
       "      <th></th>\n",
       "      <th>addLiquidityCount</th>\n",
       "      <th>addLiquidityVolume</th>\n",
       "      <th>dailyActiveUsers</th>\n",
       "      <th>impermanentLossProtectionPaid</th>\n",
       "      <th>monthlyActiveUsers</th>\n",
       "      <th>runeDepth</th>\n",
       "      <th>runePriceUSD</th>\n",
       "      <th>swapCount</th>\n",
       "      <th>swapCount24h</th>\n",
       "      <th>swapCount30d</th>\n",
       "      <th>swapVolume</th>\n",
       "      <th>switchedRune</th>\n",
       "      <th>toAssetCount</th>\n",
       "      <th>toRuneCount</th>\n",
       "      <th>uniqueSwapperCount</th>\n",
       "      <th>withdrawCount</th>\n",
       "      <th>withdrawVolume</th>\n",
       "    </tr>\n",
       "  </thead>\n",
       "  <tbody>\n",
       "    <tr>\n",
       "      <th>0</th>\n",
       "      <td>1094.0</td>\n",
       "      <td>1.266926e+14</td>\n",
       "      <td>209.0</td>\n",
       "      <td>6.029487e+09</td>\n",
       "      <td>2002.0</td>\n",
       "      <td>5.231769e+13</td>\n",
       "      <td>12.021922</td>\n",
       "      <td>21209.0</td>\n",
       "      <td>1537.0</td>\n",
       "      <td>21209.0</td>\n",
       "      <td>4.819078e+14</td>\n",
       "      <td>7.330460e+14</td>\n",
       "      <td>8345.0</td>\n",
       "      <td>12864.0</td>\n",
       "      <td>2002.0</td>\n",
       "      <td>270.0</td>\n",
       "      <td>1.564070e+13</td>\n",
       "    </tr>\n",
       "  </tbody>\n",
       "</table>\n",
       "</div>"
      ],
      "text/plain": [
       "   addLiquidityCount  addLiquidityVolume  dailyActiveUsers  \\\n",
       "0             1094.0        1.266926e+14             209.0   \n",
       "\n",
       "   impermanentLossProtectionPaid  monthlyActiveUsers     runeDepth  \\\n",
       "0                   6.029487e+09              2002.0  5.231769e+13   \n",
       "\n",
       "   runePriceUSD  swapCount  swapCount24h  swapCount30d    swapVolume  \\\n",
       "0     12.021922    21209.0        1537.0       21209.0  4.819078e+14   \n",
       "\n",
       "   switchedRune  toAssetCount  toRuneCount  uniqueSwapperCount  withdrawCount  \\\n",
       "0  7.330460e+14        8345.0      12864.0              2002.0          270.0   \n",
       "\n",
       "   withdrawVolume  \n",
       "0    1.564070e+13  "
      ]
     },
     "execution_count": 158,
     "metadata": {},
     "output_type": "execute_result"
    }
   ],
   "source": [
    "v2_stats_df"
   ]
  },
  {
   "cell_type": "code",
   "execution_count": null,
   "id": "fitting-pregnancy",
   "metadata": {},
   "outputs": [],
   "source": [
    "v2_stats_df['runeDepth'].astype(float)"
   ]
  },
  {
   "cell_type": "code",
   "execution_count": 113,
   "id": "sized-exercise",
   "metadata": {},
   "outputs": [
    {
     "data": {
      "text/plain": [
       "['addLiquidityCount',\n",
       " 'addLiquidityVolume',\n",
       " 'dailyActiveUsers',\n",
       " 'impermanentLossProtectionPaid',\n",
       " 'monthlyActiveUsers',\n",
       " 'runeDepth',\n",
       " 'runePriceUSD',\n",
       " 'swapCount',\n",
       " 'swapCount24h',\n",
       " 'swapCount30d',\n",
       " 'swapVolume',\n",
       " 'switchedRune',\n",
       " 'toAssetCount',\n",
       " 'toRuneCount',\n",
       " 'uniqueSwapperCount',\n",
       " 'withdrawCount',\n",
       " 'withdrawVolume']"
      ]
     },
     "execution_count": 113,
     "metadata": {},
     "output_type": "execute_result"
    }
   ],
   "source": [
    "v2_stats_df.columns.tolist()"
   ]
  },
  {
   "cell_type": "code",
   "execution_count": 105,
   "id": "behavioral-advertiser",
   "metadata": {},
   "outputs": [],
   "source": [
    "def get_NetworkRuneMetrics_stats():\n",
    "    \n",
    "    network_data_request = 'https://midgard.thorchain.info/v2/network'\n",
    "    rn = requests.get(network_data_request)\n",
    "    net_response_dict = rn.json()\n",
    "    \n",
    "    _df = pd.DataFrame([net_response_dict['bondMetrics']]).astype(float)\n",
    "    \n",
    "    _df['totalPooledRune'] = float(net_response_dict['totalPooledRune'])\n",
    "    _df['totalReserve'] = float(net_response_dict['totalReserve'])\n",
    "    \n",
    "    return _df\n",
    "    "
   ]
  },
  {
   "cell_type": "code",
   "execution_count": 106,
   "id": "differential-mouse",
   "metadata": {},
   "outputs": [],
   "source": [
    "networkrune_df = get_NetworkRuneMetrics_stats()"
   ]
  },
  {
   "cell_type": "code",
   "execution_count": 111,
   "id": "sweet-popularity",
   "metadata": {},
   "outputs": [
    {
     "data": {
      "text/plain": [
       "{'averageActiveBond': {0: 25671897062889.0},\n",
       " 'averageStandbyBond': {0: 10000406666667.0},\n",
       " 'maximumActiveBond': {0: 29953060050449.0},\n",
       " 'maximumStandbyBond': {0: 30000392000001.0},\n",
       " 'medianActiveBond': {0: 29947079283072.0},\n",
       " 'medianStandbyBond': {0: 488000002.0},\n",
       " 'minimumActiveBond': {0: 23388752868.0},\n",
       " 'minimumStandbyBond': {0: 390000000.0},\n",
       " 'totalActiveBond': {0: 179703279440225.0},\n",
       " 'totalStandbyBond': {0: 60002440000004.0},\n",
       " 'totalPooledRune': {0: 50338750079290.0},\n",
       " 'totalReserve': {0: 485094506917.0}}"
      ]
     },
     "execution_count": 111,
     "metadata": {},
     "output_type": "execute_result"
    }
   ],
   "source": [
    "networkrune_df.to_dict()"
   ]
  },
  {
   "cell_type": "markdown",
   "id": "assigned-chaos",
   "metadata": {},
   "source": [
    "# Calculate In-Network Rune"
   ]
  },
  {
   "cell_type": "code",
   "execution_count": 126,
   "id": "acquired-penetration",
   "metadata": {},
   "outputs": [],
   "source": [
    "def calc_in_network_rune(network_rune_df: pd.DataFrame, stats_df: pd.DataFrame):\n",
    "    \n",
    "    assert network_rune_df.shape[0] == 1, \"`network_rune_df` is wrong shape, should be single row\"\n",
    "    # TODO add assert for stats_df\n",
    "    \n",
    "    total_bond = network_rune_df['totalActiveBond'][0] + network_rune_df['totalStandbyBond'][0]\n",
    "    \n",
    "    # TODO: Verify that `runeDepth`\n",
    "    total_pooled = network_rune_df['totalPooledRune'][0] + stats_df['runeDepth'][0]\n",
    "    \n",
    "    print((network_rune_df['totalPooledRune'][0] - stats_df['runeDepth'][0])/ 1e7)\n",
    "    \n",
    "    total_reserve = network_rune_df['totalReserve'][0]\n",
    "    \n",
    "    return np.round((total_bond + total_pooled + total_reserve) / 1e7, 2)"
   ]
  },
  {
   "cell_type": "code",
   "execution_count": 127,
   "id": "wrapped-clark",
   "metadata": {},
   "outputs": [
    {
     "name": "stdout",
     "output_type": "stream",
     "text": [
      "311.8446297\n"
     ]
    },
    {
     "data": {
      "text/plain": [
       "34086519.57"
      ]
     },
     "execution_count": 127,
     "metadata": {},
     "output_type": "execute_result"
    }
   ],
   "source": [
    "calc_in_network_rune(network_rune_df=networkrune_df, stats_df=v2_stats_df)"
   ]
  },
  {
   "cell_type": "code",
   "execution_count": 100,
   "id": "given-provision",
   "metadata": {},
   "outputs": [
    {
     "data": {
      "text/plain": [
       "array([2.39705719e+14])"
      ]
     },
     "execution_count": 100,
     "metadata": {},
     "output_type": "execute_result"
    }
   ],
   "source": [
    "bond_df['totalActiveBond'].values + bond_df['totalStandbyBond'].values "
   ]
  },
  {
   "cell_type": "code",
   "execution_count": 66,
   "id": "respiratory-wrong",
   "metadata": {},
   "outputs": [],
   "source": [
    "#bond_df = pd.DataFrame([net_response_dict['bondMetrics']])"
   ]
  },
  {
   "cell_type": "code",
   "execution_count": 79,
   "id": "accepting-official",
   "metadata": {},
   "outputs": [],
   "source": [
    "#bond_df = bond_df.astype(int)"
   ]
  },
  {
   "cell_type": "code",
   "execution_count": 80,
   "id": "reasonable-words",
   "metadata": {},
   "outputs": [],
   "source": [
    "#total_bond_rune = bond_df['totalActiveBond'] + bond_df['totalStandbyBond']"
   ]
  },
  {
   "cell_type": "code",
   "execution_count": 82,
   "id": "stylish-parade",
   "metadata": {},
   "outputs": [
    {
     "data": {
      "text/plain": [
       "2398600.03651453"
      ]
     },
     "execution_count": 82,
     "metadata": {},
     "output_type": "execute_result"
    }
   ],
   "source": [
    "total_bond_rune[0] / 100_000_000"
   ]
  },
  {
   "cell_type": "code",
   "execution_count": 73,
   "id": "copyrighted-stupid",
   "metadata": {},
   "outputs": [
    {
     "data": {
      "text/plain": [
       "23"
      ]
     },
     "execution_count": 73,
     "metadata": {},
     "output_type": "execute_result"
    }
   ],
   "source": [
    "17 + 6 + "
   ]
  },
  {
   "cell_type": "code",
   "execution_count": null,
   "id": "reliable-yukon",
   "metadata": {},
   "outputs": [],
   "source": [
    "\"totalPooledRune\": \"50518030721572\",\n",
    "  \"totalReserve\": \"484395137229\""
   ]
  },
  {
   "cell_type": "code",
   "execution_count": 83,
   "id": "japanese-mixer",
   "metadata": {},
   "outputs": [
    {
     "data": {
      "text/plain": [
       "290862429510254"
      ]
     },
     "execution_count": 83,
     "metadata": {},
     "output_type": "execute_result"
    }
   ],
   "source": [
    "50518030721572 + 484395137229 + 239860003651453"
   ]
  },
  {
   "cell_type": "code",
   "execution_count": 86,
   "id": "vital-caribbean",
   "metadata": {},
   "outputs": [
    {
     "data": {
      "text/plain": [
       "0.20000000000000284"
      ]
     },
     "execution_count": 86,
     "metadata": {},
     "output_type": "execute_result"
    }
   ],
   "source": [
    "34 - (29 + 4.8) # Total Reserve, total pooled + total bonded (both active and standby)"
   ]
  },
  {
   "cell_type": "code",
   "execution_count": 89,
   "id": "southeast-peter",
   "metadata": {},
   "outputs": [
    {
     "data": {
      "text/plain": [
       "5"
      ]
     },
     "execution_count": 89,
     "metadata": {},
     "output_type": "execute_result"
    }
   ],
   "source": [
    "34 - 29"
   ]
  },
  {
   "cell_type": "code",
   "execution_count": null,
   "id": "elementary-chapel",
   "metadata": {},
   "outputs": [],
   "source": [
    "\"totalPooledRune\": \"50518030721572\",\n",
    "\"totalReserve\": \"484395137229\",\n",
    "\"totalActiveBond\": \"179864730344791\",\n",
    "\"totalStandbyBond\": \"60002442000004\","
   ]
  },
  {
   "cell_type": "code",
   "execution_count": 88,
   "id": "social-wallace",
   "metadata": {},
   "outputs": [
    {
     "data": {
      "text/plain": [
       "290869598203596"
      ]
     },
     "execution_count": 88,
     "metadata": {},
     "output_type": "execute_result"
    }
   ],
   "source": [
    "(50518030721572\n",
    "+ 484395137229\n",
    "+ 179864730344791\n",
    "+ 60002442000004)"
   ]
  },
  {
   "cell_type": "code",
   "execution_count": 90,
   "id": "prostate-washington",
   "metadata": {},
   "outputs": [
    {
     "data": {
      "text/plain": [
       "341319024493429"
      ]
     },
     "execution_count": 90,
     "metadata": {},
     "output_type": "execute_result"
    }
   ],
   "source": [
    "# from: https://midgard.thorchain.info/v2/stats\n",
    "50449426289833  + 290869598203596"
   ]
  },
  {
   "cell_type": "code",
   "execution_count": null,
   "id": "israeli-paintball",
   "metadata": {},
   "outputs": [],
   "source": []
  },
  {
   "cell_type": "code",
   "execution_count": null,
   "id": "pregnant-identifier",
   "metadata": {},
   "outputs": [],
   "source": []
  },
  {
   "cell_type": "code",
   "execution_count": 77,
   "id": "wireless-field",
   "metadata": {},
   "outputs": [
    {
     "data": {
      "text/plain": [
       "600024.42000004"
      ]
     },
     "execution_count": 77,
     "metadata": {},
     "output_type": "execute_result"
    }
   ],
   "source": [
    " (   390000000\n",
    "    + 392000000\n",
    "    + 486000000\n",
    "    + 490000002\n",
    "    + 30000292000001\n",
    "    + 30000392000001) / 100_000_000"
   ]
  },
  {
   "cell_type": "code",
   "execution_count": 78,
   "id": "cosmetic-blackberry",
   "metadata": {},
   "outputs": [
    {
     "data": {
      "text/plain": [
       "600024.42000004"
      ]
     },
     "execution_count": 78,
     "metadata": {},
     "output_type": "execute_result"
    }
   ],
   "source": [
    "60002442000004 / 100_000_000\n"
   ]
  },
  {
   "cell_type": "code",
   "execution_count": null,
   "id": "honest-transition",
   "metadata": {},
   "outputs": [],
   "source": [
    "\"totalActiveBond\": \"179864730344791\",\n",
    "    \"totalStandbyBond\": \"60002442000004\""
   ]
  },
  {
   "cell_type": "code",
   "execution_count": 36,
   "id": "certified-variable",
   "metadata": {},
   "outputs": [
    {
     "data": {
      "text/html": [
       "<div>\n",
       "<style scoped>\n",
       "    .dataframe tbody tr th:only-of-type {\n",
       "        vertical-align: middle;\n",
       "    }\n",
       "\n",
       "    .dataframe tbody tr th {\n",
       "        vertical-align: top;\n",
       "    }\n",
       "\n",
       "    .dataframe thead th {\n",
       "        text-align: right;\n",
       "    }\n",
       "</style>\n",
       "<table border=\"1\" class=\"dataframe\">\n",
       "  <thead>\n",
       "    <tr style=\"text-align: right;\">\n",
       "      <th></th>\n",
       "      <th>asset</th>\n",
       "      <th>assetDepth</th>\n",
       "      <th>assetPrice</th>\n",
       "      <th>assetPriceUSD</th>\n",
       "      <th>poolAPY</th>\n",
       "      <th>runeDepth</th>\n",
       "      <th>status</th>\n",
       "      <th>units</th>\n",
       "      <th>volume24h</th>\n",
       "    </tr>\n",
       "  </thead>\n",
       "  <tbody>\n",
       "    <tr>\n",
       "      <th>0</th>\n",
       "      <td>BCH.BCH</td>\n",
       "      <td>15110496222</td>\n",
       "      <td>64.6317940706739</td>\n",
       "      <td>832.722190908846</td>\n",
       "      <td>0.2690831805870779</td>\n",
       "      <td>976618480126</td>\n",
       "      <td>available</td>\n",
       "      <td>944477365474</td>\n",
       "      <td>10132838293</td>\n",
       "    </tr>\n",
       "    <tr>\n",
       "      <th>1</th>\n",
       "      <td>ETH.USDT-0XDAC17F958D2EE523A2206206994597C13D8...</td>\n",
       "      <td>87973195818300</td>\n",
       "      <td>0.07700358576299253</td>\n",
       "      <td>0.9921215334712705</td>\n",
       "      <td>0.12291418250868902</td>\n",
       "      <td>6774251529039</td>\n",
       "      <td>available</td>\n",
       "      <td>8995653916193</td>\n",
       "      <td>1154156467253</td>\n",
       "    </tr>\n",
       "  </tbody>\n",
       "</table>\n",
       "</div>"
      ],
      "text/plain": [
       "                                               asset      assetDepth  \\\n",
       "0                                            BCH.BCH     15110496222   \n",
       "1  ETH.USDT-0XDAC17F958D2EE523A2206206994597C13D8...  87973195818300   \n",
       "\n",
       "            assetPrice       assetPriceUSD              poolAPY  \\\n",
       "0     64.6317940706739    832.722190908846   0.2690831805870779   \n",
       "1  0.07700358576299253  0.9921215334712705  0.12291418250868902   \n",
       "\n",
       "       runeDepth     status          units      volume24h  \n",
       "0   976618480126  available   944477365474    10132838293  \n",
       "1  6774251529039  available  8995653916193  1154156467253  "
      ]
     },
     "execution_count": 36,
     "metadata": {},
     "output_type": "execute_result"
    }
   ],
   "source": [
    "pool_df[pool_df['asset']]"
   ]
  },
  {
   "cell_type": "code",
   "execution_count": null,
   "id": "absolute-european",
   "metadata": {},
   "outputs": [],
   "source": [
    "def get_data():\n",
    "    \n",
    "    \n",
    "    my_request = 'https://midgard.thorchain.info/v2/pools'\n",
    "    \n",
    "    r = requests.get(my_request)\n",
    "    response_dict = r.json()\n",
    "    response_dict.keys()"
   ]
  },
  {
   "cell_type": "code",
   "execution_count": null,
   "id": "expected-philippines",
   "metadata": {},
   "outputs": [],
   "source": [
    "So we need to get all the pool data for pool rune\n",
    "and we need to get bonded rune and sum"
   ]
  },
  {
   "cell_type": "code",
   "execution_count": null,
   "id": "friendly-material",
   "metadata": {},
   "outputs": [],
   "source": []
  },
  {
   "cell_type": "code",
   "execution_count": 10,
   "id": "inappropriate-selling",
   "metadata": {},
   "outputs": [],
   "source": [
    "value_dict = {\n",
    "    'non_rune_TVL': 91, # in Million USD\n",
    "    'in_network_rune': 33.6, # in Million USD \n",
    "    'market_price': 13.45,\n",
    "    \n",
    "}"
   ]
  },
  {
   "cell_type": "code",
   "execution_count": 133,
   "id": "grateful-baker",
   "metadata": {},
   "outputs": [],
   "source": [
    "def new_det_price_calc(non_rune_tvl, circ_supply):\n",
    "    \n",
    "    '''\n",
    "    source: https://thorchain.org/rune#what-influences-it\n",
    "    '''\n",
    "    \n",
    "    det_price = (3 * non_rune_tvl) / circ_supply\n",
    "    \n",
    "    return det_price"
   ]
  },
  {
   "cell_type": "code",
   "execution_count": 134,
   "id": "expressed-anatomy",
   "metadata": {},
   "outputs": [
    {
     "data": {
      "text/plain": [
       "0.16595744680851063"
      ]
     },
     "execution_count": 134,
     "metadata": {},
     "output_type": "execute_result"
    }
   ],
   "source": [
    "new_det_price_calc(non_rune_tvl=13_000_000, circ_supply=235_000_000)"
   ]
  },
  {
   "cell_type": "code",
   "execution_count": 19,
   "id": "temporal-department",
   "metadata": {},
   "outputs": [],
   "source": [
    "def calculate_deterministic_price(value_dict: Dict[str, float]):\n",
    "  \n",
    " NEED TO REVISE THIS!!!!!\n",
    "#     det_value = value_dict.get('non_rune_TVL') * 3\n",
    "    \n",
    "#     # Deterministic price per Rune, `baseline` from @Slawteh\n",
    "#     det_price = det_value / value_dict.get('in_network_rune')\n",
    "    \n",
    "#     # Speculation Premium \n",
    "#     spec_prem = value_dict.get('market_price') - det_price\n",
    "    \n",
    "\n",
    "#     print(f\"Deterministic Price, USD: ${np.round(det_price ,2)}\")\n",
    "#     print(f\"Speculative Premium, USD: ${np.round(spec_prem ,2)}\")\n",
    "#     #return \n",
    "    "
   ]
  },
  {
   "cell_type": "code",
   "execution_count": 12,
   "id": "automated-bones",
   "metadata": {},
   "outputs": [
    {
     "name": "stdout",
     "output_type": "stream",
     "text": [
      "Rune Cap Elasticity, USD: $-0.23\n",
      "Deterministic Price, USD: $8.12\n",
      "Speculative Premium, USD: $5.32\n"
     ]
    }
   ],
   "source": [
    "calculate_deterministic_price(value_dict)"
   ]
  },
  {
   "cell_type": "code",
   "execution_count": 17,
   "id": "unique-webster",
   "metadata": {},
   "outputs": [],
   "source": [
    "def calculate_rune_elasticity(value_dict: Dict[str, float], det_price: float):\n",
    "    \n",
    "    # Rune Cap, Deterministic Price elasticity\n",
    "    new_det_value = (1 + value_dict.get('non_rune_TVL')) * 3\n",
    "    \n",
    "    new_det_price = new_det_value / (1 + value_dict.get('in_network_rune'))\n",
    "    # increase of 1M rune to det price\n",
    "    #inc_det_price = det_value / ( 1 + value_dict.get('in_network_rune'))\n",
    "    # Rune Cap Elasticity, +1M Rune -> +x price increase in Rune price.\n",
    "    cap_elasticity = new_det_price - det_price \n",
    "    \n",
    "    \n",
    "    print(new_det_price)\n",
    "    print(f\"Rune Cap Elasticity, USD: ${np.round(cap_elasticity ,2)}\")\n",
    "    \n"
   ]
  },
  {
   "cell_type": "code",
   "execution_count": 18,
   "id": "unnecessary-minimum",
   "metadata": {},
   "outputs": [
    {
     "name": "stdout",
     "output_type": "stream",
     "text": [
      "7.976878612716763\n",
      "Rune Cap Elasticity, USD: $-0.14\n"
     ]
    }
   ],
   "source": [
    "calculate_rune_elasticity(value_dict, det_price=8.12)"
   ]
  },
  {
   "cell_type": "code",
   "execution_count": null,
   "id": "solved-registrar",
   "metadata": {},
   "outputs": [],
   "source": []
  }
 ],
 "metadata": {
  "kernelspec": {
   "display_name": "Python [conda env:ray-gpu] *",
   "language": "python",
   "name": "conda-env-ray-gpu-py"
  },
  "language_info": {
   "codemirror_mode": {
    "name": "ipython",
    "version": 3
   },
   "file_extension": ".py",
   "mimetype": "text/x-python",
   "name": "python",
   "nbconvert_exporter": "python",
   "pygments_lexer": "ipython3",
   "version": "3.7.10"
  }
 },
 "nbformat": 4,
 "nbformat_minor": 5
}
